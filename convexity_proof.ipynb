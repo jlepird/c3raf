{
 "cells": [
  {
   "cell_type": "markdown",
   "metadata": {},
   "source": [
    "### Proof of likelihood function nonconvexity\n",
    "This script identifies a situation in which the likelihood function is nonconvex. Specifically, let \n",
    "\n",
    "${\\mathbf{D}_D} = \\begin{bmatrix} 1 & 0 \\\\ 0 & 1 \\end{bmatrix}$ and $ {\\mathbf{D}_I} = \\begin{bmatrix} 0 & 1 \\\\ 1 & 0 \\end{bmatrix}$\n",
    "\n",
    "Then, define our guess matrix $\\widehat{\\mathbf{D}}$ to be \n",
    "\n",
    "$\\widehat{\\mathbf{D}} = \\begin{bmatrix} w & x \\\\ y & z \\end{bmatrix}$\n",
    "\n",
    "We can know write the likelihood function of our guess explicitly using the `sympy` package."
   ]
  },
  {
   "cell_type": "code",
   "execution_count": 1,
   "metadata": {
    "collapsed": true
   },
   "outputs": [],
   "source": [
    "from sympy import *\n",
    "var = [\"w\", \"x\",\"y\",\"z\"]\n",
    "from IPython.display import display\n",
    "\n",
    "w, x, y, z = symbols(\" \".join(var))\n",
    "\n",
    "# Define our likelihood function\n",
    "fun = (w/(w+x)-1)**2  + (w/(w+y))**2 \n",
    "fun += (x/(w+x))**2   + (x/(x+z))**2\n",
    "fun += (y/(y+z))**2   + (y/(w+y)-1)**2\n",
    "fun += (z/(y+z)-1)**2 + (z/(x+z))**2\n",
    "\n",
    "# Switch to negative log-likelihood so we can minimize\n",
    "fun *= 1"
   ]
  },
  {
   "cell_type": "markdown",
   "metadata": {},
   "source": [
    "The Jacobian matrix of this function is really nastly looking:"
   ]
  },
  {
   "cell_type": "code",
   "execution_count": 2,
   "metadata": {
    "scrolled": false
   },
   "outputs": [
    {
     "data": {
      "text/plain": [
       "Matrix([\n",
       "[2*(3*w**2/(w + y)**4 - 4*w/(w + y)**3 + 3*x**2/(w + x)**4 + y**2/(w + y)**4 + 2*y*(y/(w + y) - 1)/(w + y)**3 + (w + y)**(-2) + 3*(w/(w + x) - 1)**2/(w + x)**2),                                                                                       2*(3*w*(w/(w + x) - 1)/(w + x) - w/(w + x) + 3*x**2/(w + x)**2 - 2*x/(w + x) + 1)/(w + x)**2,                                                  2*(3*w**2/(w + y)**2 - 2*w/(w + y) + y*(y/(w + y) - 1)/(w + y) + (y/(w + y) - 1)*(2*y/(w + y) - 1))/(w + y)**2,                                                                                                                                0],\n",
       "[                                                 2*(w*(w/(w + x) - 1)/(w + x) + 3*x**2/(w + x)**2 - 2*x/(w + x) + (w/(w + x) - 1)*(2*w/(w + x) - 1))/(w + x)**2, 2*(w**2/(w + x)**4 + 2*w*(w/(w + x) - 1)/(w + x)**3 + 3*x**2/(x + z)**4 + 3*x**2/(w + x)**4 - 4*x/(x + z)**3 - 4*x/(w + x)**3 + 3*z**2/(x + z)**4 + (x + z)**(-2) + (w + x)**(-2)),                                                                                                                                                               0,                                                                       2*(3*x**2/(x + z) - 2*x + 3*z**2/(x + z) - 2*z)/(x + z)**3],\n",
       "[                                                                   2*(3*w**2/(w + y)**2 - 2*w/(w + y) + 3*y*(y/(w + y) - 1)/(w + y) - y/(w + y) + 1)/(w + y)**2,                                                                                                                                                                                  0, 2*(3*w**2/(w + y)**4 + 3*y**2/(y + z)**4 - 4*y/(y + z)**3 + z**2/(y + z)**4 + 2*z*(z/(y + z) - 1)/(y + z)**3 + (y + z)**(-2) + 3*(y/(w + y) - 1)**2/(w + y)**2),                   2*(3*y**2/(y + z)**2 - 2*y/(y + z) + z*(z/(y + z) - 1)/(y + z) + (z/(y + z) - 1)*(2*z/(y + z) - 1))/(y + z)**2],\n",
       "[                                                                                                                                                              0,                                                                                                                         2*(3*x**2/(x + z) - 2*x + 3*z**2/(x + z) - 2*z)/(x + z)**3,                                                                    2*(3*y**2/(y + z)**2 - 2*y/(y + z) + 3*z*(z/(y + z) - 1)/(y + z) - z/(y + z) + 1)/(y + z)**2, 2*(3*x**2/(x + z)**4 + 3*y**2/(y + z)**4 + 3*z**2/(x + z)**4 - 4*z/(x + z)**3 + 3*(z/(y + z) - 1)**2/(y + z)**2 + (x + z)**(-2))]])"
      ]
     },
     "metadata": {},
     "output_type": "display_data"
    }
   ],
   "source": [
    "jac = Matrix([[fun.diff(a,b) for a in var] for b in var])\n",
    "display(jac)"
   ]
  },
  {
   "cell_type": "markdown",
   "metadata": {},
   "source": [
    "It doesn't appear that this matrix should be positive semidefinite for all $w, x, y, z$ combos, so we iteratively find a counterexample:"
   ]
  },
  {
   "cell_type": "code",
   "execution_count": 3,
   "metadata": {},
   "outputs": [
    {
     "name": "stdout",
     "output_type": "stream",
     "text": [
      "Not convex! -1830.12701892219 + 2.23748904465343e-27*I\n",
      "(0.01, 0.01, 0.01, 0.01)\n"
     ]
    }
   ],
   "source": [
    "r = [(i+1)*0.01 for i in range(0,99)]\n",
    "\n",
    "def search():\n",
    "    for i in r:\n",
    "        for j in r:\n",
    "            for k in r:\n",
    "                for l in r:\n",
    "                    mat = jac.subs([(w,i),(x,j),(y,k),(z,l)])\n",
    "                    for eig in mat.eigenvals().keys():\n",
    "                        val = eig.evalf()\n",
    "                        if im(val) > 0 or re(val) < 0:\n",
    "                            print \"Not convex! \" + str(val)\n",
    "                            print(i,j,k,l)\n",
    "                            return\n",
    "search()"
   ]
  }
 ],
 "metadata": {
  "kernelspec": {
   "display_name": "Python 2",
   "language": "python",
   "name": "python2"
  },
  "language_info": {
   "codemirror_mode": {
    "name": "ipython",
    "version": 2
   },
   "file_extension": ".py",
   "mimetype": "text/x-python",
   "name": "python",
   "nbconvert_exporter": "python",
   "pygments_lexer": "ipython2",
   "version": "2.7.13"
  }
 },
 "nbformat": 4,
 "nbformat_minor": 2
}
